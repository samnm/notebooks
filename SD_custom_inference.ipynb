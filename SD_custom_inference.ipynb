{
  "nbformat": 4,
  "nbformat_minor": 0,
  "metadata": {
    "colab": {
      "provenance": [],
      "collapsed_sections": [],
      "authorship_tag": "ABX9TyNoW1g4IWG746gs7jqG/ulZ",
      "include_colab_link": true
    },
    "kernelspec": {
      "name": "python3",
      "display_name": "Python 3"
    },
    "language_info": {
      "name": "python"
    }
  },
  "cells": [
    {
      "cell_type": "markdown",
      "metadata": {
        "id": "view-in-github",
        "colab_type": "text"
      },
      "source": [
        "<a href=\"https://colab.research.google.com/github/samnm/notebooks/blob/main/SD_custom_inference.ipynb\" target=\"_parent\"><img src=\"https://colab.research.google.com/assets/colab-badge.svg\" alt=\"Open In Colab\"/></a>"
      ]
    },
    {
      "cell_type": "code",
      "execution_count": null,
      "metadata": {
        "id": "-avTO7n3QX0D"
      },
      "outputs": [],
      "source": [
        "import subprocess\n",
        "import json\n",
        "weights_artifact = None #@param \n",
        "weights_url = weights_artifact['contents_url']\n",
        "ckpt_path = '/content/weights.ckpt'\n",
        "if weights_url.startswith('gs://'):\n",
        "    subprocess.check_output(['gcloud', 'storage', 'cp', weights_url, ckpt_path])\n",
        "else:\n",
        "    subprocess.check_output(['wget', weights_url, '-O', ckpt_path])"
      ]
    },
    {
      "cell_type": "code",
      "source": [
        "!wget https://raw.githubusercontent.com/huggingface/diffusers/039958eae55ff0700cfb42a7e72739575ab341f1/scripts/convert_original_stable_diffusion_to_diffusers.py\n",
        "!python /content/convert_original_stable_diffusion_to_diffusers.py --checkpoint_path \"$ckpt_path\" --dump_path /content/stable-diffusion-v1-5\n",
        "!rm /content/convert_original_stable_diffusion_to_diffusers.py"
      ],
      "metadata": {
        "id": "apf3UWQcS5Q1"
      },
      "execution_count": null,
      "outputs": []
    },
    {
      "cell_type": "code",
      "source": [
        "import torch\n",
        "from diffusers import StableDiffusionPipeline\n",
        "\n",
        "pipe = StableDiffusionPipeline.from_pretrained(\"/content/stable-diffusion-v1-5\")\n",
        "pipe = pipe.to(\"cuda\")"
      ],
      "metadata": {
        "id": "kyjAHZ3-TmM9"
      },
      "execution_count": null,
      "outputs": []
    },
    {
      "cell_type": "code",
      "source": [
        "prompt = \"\" #@param {type:\"string\"}\n",
        "image = pipe(prompt).images[0]\n",
        "image.save(\"out.png\")"
      ],
      "metadata": {
        "id": "giPTiBVBpYXF"
      },
      "execution_count": null,
      "outputs": []
    }
  ]
}